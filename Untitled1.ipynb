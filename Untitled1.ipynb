{
 "cells": [
  {
   "cell_type": "code",
   "execution_count": 7,
   "metadata": {},
   "outputs": [],
   "source": [
    "import cv2\n",
    "import numpy as np"
   ]
  },
  {
   "cell_type": "code",
   "execution_count": 10,
   "metadata": {},
   "outputs": [
    {
     "data": {
      "text/plain": [
       "True"
      ]
     },
     "execution_count": 10,
     "metadata": {},
     "output_type": "execute_result"
    }
   ],
   "source": [
    "# Read the image\n",
    "img = cv2.imread('ocr1.jpeg', 0)\n",
    " \n",
    "# Thresholding the image\n",
    "(thresh, img_bin) = cv2.threshold(img, 128, 255,cv2.THRESH_BINARY|cv2.THRESH_OTSU)\n",
    "# Invert the image\n",
    "img_bin = 255-img_bin \n",
    "cv2.imwrite(\"Image_bin.jpg\",img_bin)"
   ]
  },
  {
   "cell_type": "code",
   "execution_count": 12,
   "metadata": {},
   "outputs": [],
   "source": [
    "import matplotlib.pyplot as plt"
   ]
  },
  {
   "cell_type": "code",
   "execution_count": 14,
   "metadata": {},
   "outputs": [],
   "source": [
    "# Defining a kernel length\n",
    "kernel_length = np.array(img).shape[1]//80\n",
    " \n",
    "# A verticle kernel of (1 X kernel_length), which will detect all the verticle lines from the image.\n",
    "verticle_kernel = cv2.getStructuringElement(cv2.MORPH_RECT, (1, kernel_length))\n",
    "# A horizontal kernel of (kernel_length X 1), which will help to detect all the horizontal line from the image.\n",
    "hori_kernel = cv2.getStructuringElement(cv2.MORPH_RECT, (kernel_length, 1))\n",
    "# A kernel of (3 X 3) ones.\n",
    "kernel = cv2.getStructuringElement(cv2.MORPH_RECT, (3, 3))"
   ]
  },
  {
   "cell_type": "code",
   "execution_count": 15,
   "metadata": {},
   "outputs": [
    {
     "data": {
      "text/plain": [
       "True"
      ]
     },
     "execution_count": 15,
     "metadata": {},
     "output_type": "execute_result"
    }
   ],
   "source": [
    "# Morphological operation to detect vertical lines from an image\n",
    "img_temp1 = cv2.erode(img_bin, verticle_kernel, iterations=3)\n",
    "verticle_lines_img = cv2.dilate(img_temp1, verticle_kernel, iterations=3)\n",
    "cv2.imwrite(\"verticle_lines.jpg\",verticle_lines_img)\n",
    "# Morphological operation to detect horizontal lines from an image\n",
    "img_temp2 = cv2.erode(img_bin, hori_kernel, iterations=3)\n",
    "horizontal_lines_img = cv2.dilate(img_temp2, hori_kernel, iterations=3)\n",
    "cv2.imwrite(\"horizontal_lines.jpg\",horizontal_lines_img)"
   ]
  },
  {
   "cell_type": "code",
   "execution_count": 17,
   "metadata": {},
   "outputs": [
    {
     "data": {
      "text/plain": [
       "True"
      ]
     },
     "execution_count": 17,
     "metadata": {},
     "output_type": "execute_result"
    }
   ],
   "source": [
    "# Weighting parameters, this will decide the quantity of an image to be added to make a new image.\n",
    "alpha = 0.5\n",
    "beta = 1.0 - alpha\n",
    "# This function helps to add two image with specific weight parameter to get a third image as summation of two image.\n",
    "img_final_bin = cv2.addWeighted(verticle_lines_img, alpha, horizontal_lines_img, beta, 0.0)\n",
    "img_final_bin = cv2.erode(~img_final_bin, kernel, iterations=2)\n",
    "(thresh, img_final_bin) = cv2.threshold(img_final_bin, 128,255, cv2.THRESH_BINARY | cv2.THRESH_OTSU)\n",
    "cv2.imwrite(\"img_final_bin.jpg\",img_final_bin)"
   ]
  },
  {
   "cell_type": "code",
   "execution_count": 19,
   "metadata": {},
   "outputs": [],
   "source": [
    "def sort_contours(cnts, method=\"left-to-right\"):\n",
    "\t# initialize the reverse flag and sort index\n",
    "\treverse = False\n",
    "\ti = 0\n",
    " \n",
    "\t# handle if we need to sort in reverse\n",
    "\tif method == \"right-to-left\" or method == \"bottom-to-top\":\n",
    "\t\treverse = True\n",
    " \n",
    "\t# handle if we are sorting against the y-coordinate rather than\n",
    "\t# the x-coordinate of the bounding box\n",
    "\tif method == \"top-to-bottom\" or method == \"bottom-to-top\":\n",
    "\t\ti = 1\n",
    " \n",
    "\t# construct the list of bounding boxes and sort them from top to\n",
    "\t# bottom\n",
    "\tboundingBoxes = [cv2.boundingRect(c) for c in cnts]\n",
    "\t(cnts, boundingBoxes) = zip(*sorted(zip(cnts, boundingBoxes),\n",
    "\t\tkey=lambda b:b[1][i], reverse=reverse))\n",
    " \n",
    "\t# return the list of sorted contours and bounding boxes\n",
    "\treturn (cnts, boundingBoxes)"
   ]
  },
  {
   "cell_type": "code",
   "execution_count": 20,
   "metadata": {},
   "outputs": [],
   "source": [
    "# Find contours for image, which will detect all the boxes\n",
    "im2, contours, hierarchy = cv2.findContours(img_final_bin, cv2.RETR_TREE, cv2.CHAIN_APPROX_SIMPLE)\n",
    "# Sort all the contours by top to bottom.\n",
    "(contours, boundingBoxes) = sort_contours(contours, method=\"top-to-bottom\")"
   ]
  },
  {
   "cell_type": "code",
   "execution_count": 21,
   "metadata": {},
   "outputs": [
    {
     "ename": "NameError",
     "evalue": "name 'cropped_dir_path' is not defined",
     "output_type": "error",
     "traceback": [
      "\u001b[1;31m---------------------------------------------------------------------------\u001b[0m",
      "\u001b[1;31mNameError\u001b[0m                                 Traceback (most recent call last)",
      "\u001b[1;32m<ipython-input-21-d524c3fd3586>\u001b[0m in \u001b[0;36m<module>\u001b[1;34m\u001b[0m\n\u001b[0;32m      6\u001b[0m         \u001b[0midx\u001b[0m \u001b[1;33m+=\u001b[0m \u001b[1;36m1\u001b[0m\u001b[1;33m\u001b[0m\u001b[1;33m\u001b[0m\u001b[0m\n\u001b[0;32m      7\u001b[0m         \u001b[0mnew_img\u001b[0m \u001b[1;33m=\u001b[0m \u001b[0mimg\u001b[0m\u001b[1;33m[\u001b[0m\u001b[0my\u001b[0m\u001b[1;33m:\u001b[0m\u001b[0my\u001b[0m\u001b[1;33m+\u001b[0m\u001b[0mh\u001b[0m\u001b[1;33m,\u001b[0m \u001b[0mx\u001b[0m\u001b[1;33m:\u001b[0m\u001b[0mx\u001b[0m\u001b[1;33m+\u001b[0m\u001b[0mw\u001b[0m\u001b[1;33m]\u001b[0m\u001b[1;33m\u001b[0m\u001b[1;33m\u001b[0m\u001b[0m\n\u001b[1;32m----> 8\u001b[1;33m         \u001b[0mcv2\u001b[0m\u001b[1;33m.\u001b[0m\u001b[0mimwrite\u001b[0m\u001b[1;33m(\u001b[0m\u001b[0mcropped_dir_path\u001b[0m\u001b[1;33m+\u001b[0m\u001b[0mstr\u001b[0m\u001b[1;33m(\u001b[0m\u001b[0midx\u001b[0m\u001b[1;33m)\u001b[0m \u001b[1;33m+\u001b[0m \u001b[1;34m'.png'\u001b[0m\u001b[1;33m,\u001b[0m \u001b[0mnew_img\u001b[0m\u001b[1;33m)\u001b[0m\u001b[1;33m\u001b[0m\u001b[1;33m\u001b[0m\u001b[0m\n\u001b[0m\u001b[0;32m      9\u001b[0m \u001b[1;31m# If the box height is greater then 20, widht is >80, then only save it as a box in \"cropped/\" folder.\u001b[0m\u001b[1;33m\u001b[0m\u001b[1;33m\u001b[0m\u001b[1;33m\u001b[0m\u001b[0m\n\u001b[0;32m     10\u001b[0m     \u001b[1;32mif\u001b[0m \u001b[1;33m(\u001b[0m\u001b[0mw\u001b[0m \u001b[1;33m>\u001b[0m \u001b[1;36m80\u001b[0m \u001b[1;32mand\u001b[0m \u001b[0mh\u001b[0m \u001b[1;33m>\u001b[0m \u001b[1;36m20\u001b[0m\u001b[1;33m)\u001b[0m \u001b[1;32mand\u001b[0m \u001b[0mw\u001b[0m \u001b[1;33m>\u001b[0m \u001b[1;36m3\u001b[0m\u001b[1;33m*\u001b[0m\u001b[0mh\u001b[0m\u001b[1;33m:\u001b[0m\u001b[1;33m\u001b[0m\u001b[1;33m\u001b[0m\u001b[0m\n",
      "\u001b[1;31mNameError\u001b[0m: name 'cropped_dir_path' is not defined"
     ]
    }
   ],
   "source": [
    "idx = 0\n",
    "for c in contours:\n",
    "    # Returns the location and width,height for every contour\n",
    "    x, y, w, h = cv2.boundingRect(c)\n",
    "    if (w > 80 and h > 20) and w > 3*h:\n",
    "        idx += 1\n",
    "        new_img = img[y:y+h, x:x+w]\n",
    "        cv2.imwrite(cropped_dir_path+str(idx) + '.png', new_img)\n",
    "# If the box height is greater then 20, widht is >80, then only save it as a box in \"cropped/\" folder.\n",
    "    if (w > 80 and h > 20) and w > 3*h:\n",
    "        idx += 1\n",
    "        new_img = img[y:y+h, x:x+w]\n",
    "        cv2.imwrite(cropped_dir_path+str(idx) + '.png', new_img)"
   ]
  },
  {
   "cell_type": "code",
   "execution_count": 41,
   "metadata": {},
   "outputs": [],
   "source": [
    "import cv2\n",
    "import numpy as npThank\n",
    "def box_extraction(img_for_box_extraction_path, cropped_dir_path):\n",
    "    img = cv2.imread(img_for_box_extraction_path, 0)  # Read the image\n",
    "    (thresh, img_bin) = cv2.threshold(img, 128, 255,\n",
    "                                          cv2.THRESH_BINARY | cv2.THRESH_OTSU)  # Thresholding the image\n",
    "    img_bin = 255-img_bin  # Invert the image\n",
    "    cv2.imwrite(\"Image_bin.jpg\",img_bin)\n",
    "\n",
    "    # Defining a kernel length\n",
    "    kernel_length = np.array(img).shape[1]//40\n",
    "\n",
    "    # A verticle kernel of (1 X kernel_length), which will detect all the verticle lines from the image.\n",
    "    verticle_kernel = cv2.getStructuringElement(cv2.MORPH_RECT, (1, kernel_length))\n",
    "    # A horizontal kernel of (kernel_length X 1), which will help to detect all the horizontal line from the image.\n",
    "    hori_kernel = cv2.getStructuringElement(cv2.MORPH_RECT, (kernel_length, 1))\n",
    "    # A kernel of (3 X 3) ones.\n",
    "    kernel = cv2.getStructuringElement(cv2.MORPH_RECT, (3, 3))\n",
    "# Morphological operation to detect verticle lines from an image\n",
    "    img_temp1 = cv2.erode(img_bin, verticle_kernel, iterations=3)\n",
    "    verticle_lines_img = cv2.dilate(img_temp1, verticle_kernel, iterations=3)\n",
    "    cv2.imwrite(\"verticle_lines.jpg\",verticle_lines_img)\n",
    "# Morphological operation to detect horizontal lines from an image\n",
    "    img_temp2 = cv2.erode(img_bin, hori_kernel, iterations=3)\n",
    "    horizontal_lines_img = cv2.dilate(img_temp2, hori_kernel, iterations=3)\n",
    "    cv2.imwrite(\"horizontal_lines.jpg\",horizontal_lines_img)\n",
    "# Weighting parameters, this will decide the quantity of an image to be added to make a new image.\n",
    "    alpha = 0.5\n",
    "    beta = 1.0 - alpha\n",
    "    # This function helps to add two image with specific weight parameter to get a third image as summation of two image.\n",
    "    img_final_bin = cv2.addWeighted(verticle_lines_img, alpha, horizontal_lines_img, beta, 0.0)\n",
    "    img_final_bin = cv2.erode(~img_final_bin, kernel, iterations=2)\n",
    "    (thresh, img_final_bin) = cv2.threshold(img_final_bin, 128, 255, cv2.THRESH_BINARY | cv2.THRESH_OTSU)\n",
    "# For Debugging\n",
    "    # Enable this line to see verticle and horizontal lines in the image which is used to find boxes\n",
    "    cv2.imwrite(\"img_final_bin.jpg\",img_final_bin)\n",
    "    # Find contours for image, which will detect all the boxes\n",
    "    im2, contours, hierarchy = cv2.findContours(\n",
    "        img_final_bin, cv2.RETR_TREE, cv2.CHAIN_APPROX_SIMPLE)\n",
    "    # Sort all the contours by top to bottom.\n",
    "    (contours, boundingBoxes) = sort_contours(contours, method=\"top-to-bottom\")\n",
    "    idx = 0\n",
    "    for c in contours:\n",
    "        print(\" Returns the location and width,height for every contour\")\n",
    "        x, y, w, h = cv2.boundingRect(c)\n",
    "# If the box height is greater then 20, widht is >80, then only save it as a box in \"cropped/\" folder.\n",
    "#         if (w > 80 and h > 20) and w > 3*h:\n",
    "        print(\"Fffff\")\n",
    "        idx += 1\n",
    "        new_img = img[y:y+h, x:x+w]\n",
    "        plt.imshow(new_img)\n",
    "        cv2.imwrite(str(idx) + '.jpeg', new_img)\n"
   ]
  },
  {
   "cell_type": "code",
   "execution_count": 42,
   "metadata": {},
   "outputs": [
    {
     "name": "stdout",
     "output_type": "stream",
     "text": [
      " Returns the location and width,height for every contour\n",
      "Fffff\n"
     ]
    },
    {
     "data": {
      "image/png": "[encoded data removed]",
      "text/plain": [
       "<Figure size 432x288 with 1 Axes>"
      ]
     },
     "metadata": {
      "needs_background": "light"
     },
     "output_type": "display_data"
    }
   ],
   "source": [
    "box_extraction(\"ocr2.png\", \"\")"
   ]
  },
  {
   "cell_type": "code",
   "execution_count": null,
   "metadata": {},
   "outputs": [],
   "source": []
  },
  {
   "cell_type": "code",
   "execution_count": null,
   "metadata": {},
   "outputs": [],
   "source": []
  }
 ],
 "metadata": {
  "kernelspec": {
   "display_name": "Python 3",
   "language": "python",
   "name": "python3"
  },
  "language_info": {
   "codemirror_mode": {
    "name": "ipython",
    "version": 3
   },
   "file_extension": ".py",
   "mimetype": "text/x-python",
   "name": "python",
   "nbconvert_exporter": "python",
   "pygments_lexer": "ipython3",
   "version": "3.7.3"
  }
 },
 "nbformat": 4,
 "nbformat_minor": 2
}
