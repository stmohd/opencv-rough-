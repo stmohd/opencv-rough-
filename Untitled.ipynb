{
 "cells": [
  {
   "cell_type": "code",
   "execution_count": 1,
   "metadata": {},
   "outputs": [],
   "source": [
    "import cv2\n",
    "import matplotlib.pyplot as plt\n",
    "import urllib"
   ]
  },
  {
   "cell_type": "code",
   "execution_count": 2,
   "metadata": {},
   "outputs": [],
   "source": [
    "haarcascade='https://raw.githubusercontent.com/opencv/opencv/master/data/haarcascades/haarcascade_frontalface_default.xml'\n",
    "cascade_name='haarcascade_frontalface_default.xml'\n",
    "hareye ='https://raw.githubusercontent.com/opencv/opencv/master/data/haarcascades/haarcascade_eye.xml'\n",
    "cas_eye='haarcascade_eye.xml'"
   ]
  },
  {
   "cell_type": "code",
   "execution_count": 3,
   "metadata": {},
   "outputs": [],
   "source": [
    "urllib.request.urlretrieve(haarcascade,cascade_name)\n",
    "detector=cv2.CascadeClassifier('haarcascade_frontalface_default.xml')"
   ]
  },
  {
   "cell_type": "code",
   "execution_count": 4,
   "metadata": {},
   "outputs": [],
   "source": [
    "urllib.request.urlretrieve(hareye,cas_eye)\n",
    "eyedetect=cv2.CascadeClassifier('haarcascade_eye.xml')"
   ]
  },
  {
   "cell_type": "code",
   "execution_count": 8,
   "metadata": {},
   "outputs": [
    {
     "name": "stdout",
     "output_type": "stream",
     "text": [
      "eyes==\n",
      "eyes==\n",
      "eyes==\n",
      "eyes==\n",
      "eyes==\n",
      "eyes==\n",
      "eyes==\n",
      "eyes==\n",
      "eyes==\n",
      "eyes==\n",
      "eyes==\n",
      "eyes==\n",
      "eyes==\n",
      "eyes==\n",
      "eyes==\n",
      "eyes==\n",
      "eyes==\n",
      "eyes==\n",
      "eyes==\n",
      "eyes==\n",
      "eyes==\n",
      "eyes==\n",
      "eyes==\n",
      "eyes==\n",
      "eyes==\n",
      "eyes==\n",
      "eyes==\n",
      "eyes==\n",
      "eyes==\n",
      "eyes==\n",
      "eyes==\n",
      "eyes==\n",
      "eyes==\n",
      "eyes==\n",
      "eyes==\n",
      "eyes==\n",
      "eyes==\n",
      "eyes==\n",
      "eyes==\n",
      "eyes==\n",
      "eyes==\n",
      "eyes==\n",
      "eyes==\n",
      "eyes==\n",
      "eyes==\n",
      "eyes==\n",
      "eyes==\n",
      "eyes==\n",
      "eyes==\n",
      "eyes==\n",
      "eyes==\n",
      "eyes==\n",
      "eyes==\n",
      "eyes==\n",
      "eyes==\n",
      "eyes==\n",
      "eyes==\n",
      "eyes==\n",
      "eyes==\n",
      "eyes==\n",
      "eyes==\n",
      "eyes==\n",
      "eyes==\n",
      "eyes==\n",
      "eyes==\n",
      "eyes==\n",
      "eyes==\n",
      "eyes==\n",
      "eyes==\n",
      "eyes==\n",
      "eyes==\n",
      "eyes==\n",
      "eyes==\n",
      "eyes==\n",
      "eyes==\n",
      "eyes==\n",
      "eyes==\n",
      "eyes==\n",
      "eyes==\n",
      "eyes==\n",
      "eyes==\n",
      "eyes==\n",
      "eyes==\n",
      "eyes==\n",
      "eyes==\n",
      "eyes==\n",
      "eyes==\n",
      "eyes==\n",
      "eyes==\n",
      "eyes==\n",
      "eyes==\n",
      "eyes==\n",
      "eyes==\n",
      "eyes==\n",
      "eyes==\n",
      "eyes==\n",
      "eyes==\n",
      "eyes==\n",
      "eyes==\n",
      "eyes==\n",
      "eyes==\n",
      "eyes==\n",
      "eyes==\n",
      "eyes==\n",
      "eyes==\n",
      "eyes==\n",
      "eyes==\n",
      "eyes==\n",
      "eyes==\n",
      "eyes==\n",
      "eyes==\n",
      "eyes==\n",
      "eyes==\n",
      "eyes==\n",
      "eyes==\n",
      "eyes==\n",
      "eyes==\n",
      "eyes==\n",
      "eyes==\n",
      "eyes==\n",
      "eyes==\n",
      "eyes==\n",
      "eyes==\n",
      "eyes==\n",
      "eyes==\n"
     ]
    },
    {
     "ename": "KeyboardInterrupt",
     "evalue": "",
     "output_type": "error",
     "traceback": [
      "\u001b[1;31m---------------------------------------------------------------------------\u001b[0m",
      "\u001b[1;31mKeyboardInterrupt\u001b[0m                         Traceback (most recent call last)",
      "\u001b[1;32m<ipython-input-8-3da53df79b0d>\u001b[0m in \u001b[0;36m<module>\u001b[1;34m\u001b[0m\n\u001b[0;32m      3\u001b[0m     \u001b[0mret\u001b[0m\u001b[1;33m,\u001b[0m\u001b[0mimg\u001b[0m\u001b[1;33m=\u001b[0m\u001b[0mcap\u001b[0m\u001b[1;33m.\u001b[0m\u001b[0mread\u001b[0m\u001b[1;33m(\u001b[0m\u001b[1;33m)\u001b[0m\u001b[1;33m\u001b[0m\u001b[1;33m\u001b[0m\u001b[0m\n\u001b[0;32m      4\u001b[0m     \u001b[0mgray\u001b[0m\u001b[1;33m=\u001b[0m\u001b[0mcv2\u001b[0m\u001b[1;33m.\u001b[0m\u001b[0mcvtColor\u001b[0m\u001b[1;33m(\u001b[0m\u001b[0mimg\u001b[0m\u001b[1;33m,\u001b[0m\u001b[0mcv2\u001b[0m\u001b[1;33m.\u001b[0m\u001b[0mCOLOR_BGR2GRAY\u001b[0m\u001b[1;33m)\u001b[0m\u001b[1;33m\u001b[0m\u001b[1;33m\u001b[0m\u001b[0m\n\u001b[1;32m----> 5\u001b[1;33m     \u001b[0mfaces\u001b[0m\u001b[1;33m=\u001b[0m\u001b[0mdetector\u001b[0m\u001b[1;33m.\u001b[0m\u001b[0mdetectMultiScale\u001b[0m\u001b[1;33m(\u001b[0m\u001b[0mgray\u001b[0m\u001b[1;33m,\u001b[0m\u001b[1;36m1.3\u001b[0m\u001b[1;33m,\u001b[0m\u001b[1;36m5\u001b[0m\u001b[1;33m)\u001b[0m\u001b[1;33m\u001b[0m\u001b[1;33m\u001b[0m\u001b[0m\n\u001b[0m\u001b[0;32m      6\u001b[0m     \u001b[1;32mfor\u001b[0m \u001b[0mface\u001b[0m \u001b[1;32min\u001b[0m \u001b[0mfaces\u001b[0m\u001b[1;33m:\u001b[0m\u001b[1;33m\u001b[0m\u001b[1;33m\u001b[0m\u001b[0m\n\u001b[0;32m      7\u001b[0m         \u001b[1;33m(\u001b[0m\u001b[0mx\u001b[0m\u001b[1;33m,\u001b[0m\u001b[0my\u001b[0m\u001b[1;33m,\u001b[0m\u001b[0mw\u001b[0m\u001b[1;33m,\u001b[0m\u001b[0mh\u001b[0m\u001b[1;33m)\u001b[0m\u001b[1;33m=\u001b[0m\u001b[0mface\u001b[0m\u001b[1;33m\u001b[0m\u001b[1;33m\u001b[0m\u001b[0m\n",
      "\u001b[1;31mKeyboardInterrupt\u001b[0m: "
     ]
    }
   ],
   "source": [
    "cap=cv2.VideoCapture(0)\n",
    "while True:\n",
    "    ret,img=cap.read()\n",
    "    gray=cv2.cvtColor(img,cv2.COLOR_BGR2GRAY)\n",
    "    faces=detector.detectMultiScale(gray,1.3,5)\n",
    "    for face in faces:\n",
    "        (x,y,w,h)=face\n",
    "        cv2.rectangle(img,(x,y),(x+w,y+h),(0,255,0),2)\n",
    "        roi_gray=gray[y:y+h,x:x+w]\n",
    "        roi_color=img[y:y+h,x:x+w]\n",
    "        eye=eyedetect.detectMultiScale(roi_gray)\n",
    "        for (ex,ey,ew,eh) in eye:\n",
    "            cv2.rectangle(roi_color,(ex,ey),(ex+ew,ey+eh),(255,0,0),2)\n",
    "            \n",
    "    cv2.imshow('img',img)\n",
    "    k=cv2.waitKey(30) & 0xff\n",
    "    if k==27:\n",
    "        break\n",
    "    \n",
    "cap.release()\n",
    "cv2.destroyAllWindows()"
   ]
  },
  {
   "cell_type": "code",
   "execution_count": 9,
   "metadata": {},
   "outputs": [],
   "source": [
    "cap.release()"
   ]
  },
  {
   "cell_type": "code",
   "execution_count": 11,
   "metadata": {},
   "outputs": [],
   "source": [
    "cv2.destroyAllWindows()"
   ]
  },
  {
   "cell_type": "code",
   "execution_count": null,
   "metadata": {},
   "outputs": [],
   "source": []
  },
  {
   "cell_type": "code",
   "execution_count": null,
   "metadata": {},
   "outputs": [],
   "source": []
  },
  {
   "cell_type": "code",
   "execution_count": null,
   "metadata": {},
   "outputs": [],
   "source": []
  },
  {
   "cell_type": "code",
   "execution_count": null,
   "metadata": {},
   "outputs": [],
   "source": []
  },
  {
   "cell_type": "code",
   "execution_count": null,
   "metadata": {},
   "outputs": [],
   "source": []
  }
 ],
 "metadata": {
  "kernelspec": {
   "display_name": "Python 3",
   "language": "python",
   "name": "python3"
  },
  "language_info": {
   "codemirror_mode": {
    "name": "ipython",
    "version": 3
   },
   "file_extension": ".py",
   "mimetype": "text/x-python",
   "name": "python",
   "nbconvert_exporter": "python",
   "pygments_lexer": "ipython3",
   "version": "3.7.3"
  }
 },
 "nbformat": 4,
 "nbformat_minor": 2
}
